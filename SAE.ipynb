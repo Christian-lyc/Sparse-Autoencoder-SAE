{
 "cells": [
  {
   "cell_type": "code",
   "execution_count": 1,
   "metadata": {},
   "outputs": [],
   "source": [
    "import torch\n",
    "import torch.nn as nn\n",
    "import torch.nn.functional as F\n",
    "import torch.optim as optim\n",
    "from torch.autograd import Variable\n",
    "\n",
    "from utils import mnist, plot_graphs, plot_mnist # functions for loading and plotting MNIST\n",
    "import numpy as np\n",
    "\n",
    "import matplotlib.pyplot as plt\n",
    "import h5py\n",
    "\n",
    "\n",
    "%matplotlib inline"
   ]
  },
  {
   "cell_type": "code",
   "execution_count": 2,
   "metadata": {},
   "outputs": [],
   "source": [
    "batch_size=256\n",
    "rho = 0.05\n",
    "beta=2#5\n",
    "NUM_EPOCHS=100\n",
    "which_GPU = '0'\n",
    "device = torch.device(\"cuda:\"+which_GPU)\n"
   ]
  },
  {
   "cell_type": "markdown",
   "metadata": {},
   "source": [
    "<font face=\"微软雅黑\" size=5 color=#A52A2A > Data Reader"
   ]
  },
  {
   "cell_type": "code",
   "execution_count": 3,
   "metadata": {},
   "outputs": [],
   "source": [
    "for i in range(10):\n",
    "    f = h5py.File('../../data/'+str(i)+'.h5', 'r')\n",
    "    if i==0:\n",
    "        X = np.asarray(f['XSE'])\n",
    "        Y = np.asarray(f['YSE'])\n",
    "    if i!=0:\n",
    "        X= np.vstack((X,np.asarray(f['XSE'])))\n",
    "        Y= np.vstack((Y,np.asarray(f['YSE'])))"
   ]
  },
  {
   "cell_type": "markdown",
   "metadata": {},
   "source": [
    "<font face=\"微软雅黑\" size=5 color=#A52A2A > XSE Part"
   ]
  },
  {
   "cell_type": "code",
   "execution_count": 4,
   "metadata": {},
   "outputs": [
    {
     "name": "stdout",
     "output_type": "stream",
     "text": [
      "(500000, 2000)\n",
      "(40000, 2000)\n"
     ]
    }
   ],
   "source": [
    "x_data,y_data=np.split(X,[500000],axis=0)\n",
    "print(x_data.shape)\n",
    "print(y_data.shape)\n",
    "#x_mean=np.mean(X)\n",
    "x_data=x_data.astype('float32')\n",
    "y_data=y_data.astype('float32')\n",
    "x_train=(x_data-np.min(x_data))/(np.max(x_data)-np.min(x_data))\n",
    "x_train=np.reshape(x_train,(500000,1,2000))\n",
    "y_test=(y_data-np.min(y_data))/(np.max(y_data)-np.min(y_data))\n",
    "y_test=np.reshape(y_test,(40000,1,2000))\n",
    "train_loader = torch.utils.data.DataLoader(x_train, batch_size=batch_size,num_workers=0)\n",
    "test_loader= torch.utils.data.DataLoader(y_test,batch_size=batch_size)"
   ]
  },
  {
   "cell_type": "code",
   "execution_count": 5,
   "metadata": {},
   "outputs": [],
   "source": [
    "# Encoder and decoder classes\n",
    "\n",
    "class Encoder(nn.Module):\n",
    "    def __init__(self):\n",
    "        super(Encoder, self).__init__()\n",
    "        #self.fc1 = nn.Linear(2000, 128)\n",
    "        self.conv1=nn.Conv1d(in_channels=4,out_channels=16,kernel_size=5,stride= 2)\n",
    "        self.conv2=nn.Conv1d(in_channels=16,out_channels=32,kernel_size=3,stride= 2)\n",
    "        #self.conv3=nn.Conv1d(in_channels=32,out_channels=64,kernel_size=3,stride= 2)\n",
    "        #self.fc2 = nn.Linear(2000, 1024)\n",
    "        #self.fc3 = nn.Linear(1024, 256)\n",
    "        #self.fc4 = nn.Linear(256, 56)\n",
    "    \n",
    "    def forward(self, x):\n",
    "        x = x.reshape(-1,4,500)\n",
    "        x = F.relu(self.conv1(x))\n",
    "        x = torch.sigmoid(self.conv2(x))\n",
    "        #x = F.relu(self.conv3(x))\n",
    "        #x = F.relu(self.fc2(x))\n",
    "        #x = F.relu(self.fc3(x))\n",
    "        #x = F.relu(self.fc4(x))\n",
    "        \n",
    "        return x\n",
    "    \n",
    "class Decoder(nn.Module):\n",
    "    def __init__(self):\n",
    "        super(Decoder, self).__init__()\n",
    "        #self.fc4 = nn.Linear(128, 2000)\n",
    "        #self.conv1=nn.Conv1d(in_channels=64,out_channels=32,kernel_size=3,stride= 1,padding=1)\n",
    "        self.conv2=nn.Conv1d(in_channels=32,out_channels=16,kernel_size=3,stride= 1,padding=1)\n",
    "        self.conv3=nn.Conv1d(in_channels=16,out_channels=4,kernel_size=5,stride= 1,padding=1)\n",
    "        \n",
    "        self.fc = nn.Linear(1952,2000)\n",
    "        #self.fc3 = nn.Linear(256, 1024)\n",
    "        #self.fc2 = nn.Linear(1024, 2000)\n",
    "        #self.fc1 = nn.Linear(2000, 2000)\n",
    "    \n",
    "    def forward(self, x):\n",
    "        #x = self.fc4(x)\n",
    "        #x = F.relu(self.conv1(x))\n",
    "        x = F.relu(self.conv2(x))\n",
    "        x= F.interpolate(x, scale_factor=2 )\n",
    "        x = F.relu(self.conv3(x))\n",
    "        x= F.interpolate(x, scale_factor=2 )\n",
    "        x = x.reshape(-1,1,1952)\n",
    "        x=self.fc(x)\n",
    "        #x = F.relu(self.fc3(x))\n",
    "        #x = F.relu(self.fc2(x))\n",
    "        #x = self.fc1(x)\n",
    "        return x"
   ]
  },
  {
   "cell_type": "code",
   "execution_count": 6,
   "metadata": {},
   "outputs": [],
   "source": [
    "# Class for autoencoder\n",
    "\n",
    "class Net(nn.Module):\n",
    "    def __init__(self, loss_fn=F.mse_loss, lr=1e-4, l2=0.):#3e-4\n",
    "        super(Net, self).__init__()\n",
    "        self.E = Encoder()\n",
    "        self.D = Decoder()\n",
    "        self.loss_fn = loss_fn\n",
    "        self._rho_loss = None\n",
    "        self._loss = None\n",
    "        self.optim = optim.Adam(self.parameters(), lr=lr, weight_decay=l2)\n",
    "        \n",
    "    def forward(self, x):\n",
    "        h = self.E(x)\n",
    "        self.data_rho = h.mean(0) # calculates rho from encoder activations\n",
    "        out = self.D(h)\n",
    "        return out\n",
    "    \n",
    "    def decode(self, h):\n",
    "        with torch.no_grad():\n",
    "            return self.D(h)\n",
    "    \n",
    "    def rho_loss(self, rho, size_average=True):        \n",
    "        dkl = - rho * torch.log(self.data_rho) - (1-rho)*torch.log(1-self.data_rho) # calculates KL divergence\n",
    "        \n",
    "        if size_average:\n",
    "            self._rho_loss = dkl.mean()\n",
    "        else:\n",
    "            self._rho_loss = dkl.sum()\n",
    "        return self._rho_loss\n",
    "    \n",
    "    def loss(self, x, target, **kwargs):\n",
    "        self._loss = self.loss_fn(x, target, **kwargs)\n",
    "        return self._loss"
   ]
  },
  {
   "cell_type": "code",
   "execution_count": 7,
   "metadata": {},
   "outputs": [],
   "source": [
    "# Making AEs with 16, 64 and 256 neurons in latent layer\n",
    "\n",
    "model =Net().cuda(device)\n"
   ]
  },
  {
   "cell_type": "code",
   "execution_count": 8,
   "metadata": {},
   "outputs": [],
   "source": [
    "# Train function\n",
    "\n",
    "def train(epoch, model,beta):\n",
    "    loss_total=0\n",
    "    train_size = len(train_loader)\n",
    "    for batch_idx, data in enumerate(train_loader):\n",
    "        model.optim.zero_grad()\n",
    "        inputs = data.to(device)#.clone().detach()\n",
    "        inputs = Variable(inputs, requires_grad=True)\n",
    "        output = model(inputs)\n",
    "        if beta!=0:\n",
    "            rho_loss = model.rho_loss(rho)\n",
    "            loss = model.loss(output, inputs) + beta*rho_loss\n",
    "        else:\n",
    "            loss = model.loss(output, inputs)\n",
    "        loss.backward()\n",
    "        model.optim.step()\n",
    "        loss_total+=loss.item()\n",
    "        \n",
    "        \n",
    "        \n",
    "    #line = \"Train Epoch: {} [{} ]\\tLosses \".format(\n",
    "    #            epoch, train_size)\n",
    "    #loss=\" \".join([\"{:.6f}\".format(loss_total/float(train_size))])\n",
    "    #print(line+loss)\n",
    "    return loss_total/float(train_size)"
   ]
  },
  {
   "cell_type": "code",
   "execution_count": 9,
   "metadata": {},
   "outputs": [],
   "source": [
    "def test(model):\n",
    "    loss_total=0\n",
    "    test_size = len(test_loader)\n",
    "    for batch_idx,data in enumerate(test_loader):\n",
    "        inputs = data.to(device)\n",
    "        inputs = Variable(inputs, requires_grad=False)\n",
    "        output = model(inputs)\n",
    "        loss = model.loss(output, inputs)\n",
    "        loss_total+=loss.item()\n",
    "    #line = \"Test: [{} ]\\tLosses \".format(test_size)\n",
    "    #loss=\" \".join([\"{:.6f}\".format(loss_total/float(test_size))])\n",
    "    #print(line+loss)\n",
    "    return loss_total/float(test_size)\n",
    "        "
   ]
  },
  {
   "cell_type": "code",
   "execution_count": 10,
   "metadata": {},
   "outputs": [],
   "source": [
    "def plot_auto(net, testloader, indices):\n",
    "    for data in testloader:\n",
    "        data = data.to(device)\n",
    "        outputs = net(data).cpu().detach().numpy()\n",
    "        break\n",
    "    output1=outputs.reshape((256, 2000))\n",
    "    data1=data.reshape((256, 2000))\n",
    "    print(np.mean((output1-data1.cpu().detach().numpy())** 2))\n",
    "    plt.plot(data1[indices].cpu().detach().numpy(), label ='GT')\n",
    "    plt.plot(output1[indices], label = 'predicted')\n",
    "    plt.legend()"
   ]
  },
  {
   "cell_type": "code",
   "execution_count": 11,
   "metadata": {},
   "outputs": [
    {
     "name": "stdout",
     "output_type": "stream",
     "text": [
      "Epoch 1 of 100, Train Loss: 0.688, Val Loss: 0.001\n",
      "Epoch 2 of 100, Train Loss: 0.399, Val Loss: 0.001\n",
      "Epoch 3 of 100, Train Loss: 0.399, Val Loss: 0.001\n",
      "Epoch 4 of 100, Train Loss: 0.399, Val Loss: 0.001\n",
      "Epoch 5 of 100, Train Loss: 0.399, Val Loss: 0.001\n",
      "Epoch 6 of 100, Train Loss: 0.398, Val Loss: 0.001\n",
      "Epoch 7 of 100, Train Loss: 0.398, Val Loss: 0.001\n",
      "Epoch 8 of 100, Train Loss: 0.398, Val Loss: 0.001\n",
      "Epoch 9 of 100, Train Loss: 0.397, Val Loss: 0.001\n",
      "Epoch 10 of 100, Train Loss: 0.397, Val Loss: 0.000\n",
      "Epoch 11 of 100, Train Loss: 0.397, Val Loss: 0.000\n",
      "Epoch 12 of 100, Train Loss: 0.397, Val Loss: 0.000\n",
      "Epoch 13 of 100, Train Loss: 0.397, Val Loss: 0.000\n",
      "Epoch 14 of 100, Train Loss: 0.397, Val Loss: 0.000\n",
      "Epoch 15 of 100, Train Loss: 0.397, Val Loss: 0.000\n",
      "Epoch 16 of 100, Train Loss: 0.397, Val Loss: 0.000\n",
      "Epoch 17 of 100, Train Loss: 0.397, Val Loss: 0.000\n",
      "Epoch 18 of 100, Train Loss: 0.397, Val Loss: 0.000\n",
      "Epoch 19 of 100, Train Loss: 0.397, Val Loss: 0.000\n",
      "Epoch 20 of 100, Train Loss: 0.397, Val Loss: 0.000\n",
      "Epoch 21 of 100, Train Loss: 0.397, Val Loss: 0.000\n",
      "Epoch 22 of 100, Train Loss: 0.397, Val Loss: 0.000\n",
      "Epoch 23 of 100, Train Loss: 0.397, Val Loss: 0.000\n",
      "Epoch 24 of 100, Train Loss: 0.397, Val Loss: 0.000\n",
      "Epoch 25 of 100, Train Loss: 0.397, Val Loss: 0.000\n",
      "Epoch 26 of 100, Train Loss: 0.397, Val Loss: 0.000\n",
      "Epoch 27 of 100, Train Loss: 0.397, Val Loss: 0.000\n",
      "Epoch 28 of 100, Train Loss: 0.397, Val Loss: 0.000\n",
      "Epoch 29 of 100, Train Loss: 0.397, Val Loss: 0.000\n",
      "Epoch 30 of 100, Train Loss: 0.397, Val Loss: 0.000\n",
      "Epoch 31 of 100, Train Loss: 0.397, Val Loss: 0.000\n",
      "Epoch 32 of 100, Train Loss: 0.397, Val Loss: 0.000\n",
      "Epoch 33 of 100, Train Loss: 0.397, Val Loss: 0.000\n",
      "Epoch 34 of 100, Train Loss: 0.397, Val Loss: 0.000\n",
      "Epoch 35 of 100, Train Loss: 0.397, Val Loss: 0.000\n",
      "Epoch 36 of 100, Train Loss: 0.397, Val Loss: 0.000\n",
      "Epoch 37 of 100, Train Loss: 0.397, Val Loss: 0.000\n",
      "Epoch 38 of 100, Train Loss: 0.397, Val Loss: 0.000\n",
      "Epoch 39 of 100, Train Loss: 0.397, Val Loss: 0.000\n",
      "Epoch 40 of 100, Train Loss: 0.397, Val Loss: 0.000\n",
      "Epoch 41 of 100, Train Loss: 0.397, Val Loss: 0.000\n",
      "Epoch 42 of 100, Train Loss: 0.397, Val Loss: 0.000\n",
      "Epoch 43 of 100, Train Loss: 0.397, Val Loss: 0.000\n",
      "Epoch 44 of 100, Train Loss: 0.397, Val Loss: 0.000\n",
      "Epoch 45 of 100, Train Loss: 0.397, Val Loss: 0.000\n",
      "Epoch 46 of 100, Train Loss: 0.397, Val Loss: 0.000\n",
      "Epoch 47 of 100, Train Loss: 0.397, Val Loss: 0.000\n",
      "Epoch 48 of 100, Train Loss: 0.397, Val Loss: 0.000\n",
      "Epoch 49 of 100, Train Loss: 0.397, Val Loss: 0.000\n",
      "Epoch 50 of 100, Train Loss: 0.397, Val Loss: 0.000\n",
      "Epoch 51 of 100, Train Loss: 0.397, Val Loss: 0.000\n",
      "Epoch 52 of 100, Train Loss: 0.397, Val Loss: 0.000\n",
      "Epoch 53 of 100, Train Loss: 0.397, Val Loss: 0.000\n",
      "Epoch 54 of 100, Train Loss: 0.397, Val Loss: 0.000\n",
      "Epoch 55 of 100, Train Loss: 0.397, Val Loss: 0.000\n",
      "Epoch 56 of 100, Train Loss: 0.397, Val Loss: 0.000\n",
      "Epoch 57 of 100, Train Loss: 0.397, Val Loss: 0.000\n",
      "Epoch 58 of 100, Train Loss: 0.397, Val Loss: 0.000\n",
      "Epoch 59 of 100, Train Loss: 0.397, Val Loss: 0.000\n",
      "Epoch 60 of 100, Train Loss: 0.397, Val Loss: 0.000\n",
      "Epoch 61 of 100, Train Loss: 0.397, Val Loss: 0.000\n",
      "Epoch 62 of 100, Train Loss: 0.397, Val Loss: 0.000\n",
      "Epoch 63 of 100, Train Loss: 0.397, Val Loss: 0.000\n",
      "Epoch 64 of 100, Train Loss: 0.397, Val Loss: 0.000\n",
      "Epoch 65 of 100, Train Loss: 0.397, Val Loss: 0.000\n",
      "Epoch 66 of 100, Train Loss: 0.397, Val Loss: 0.000\n",
      "Epoch 67 of 100, Train Loss: 0.397, Val Loss: 0.000\n",
      "Epoch 68 of 100, Train Loss: 0.397, Val Loss: 0.000\n",
      "Epoch 69 of 100, Train Loss: 0.397, Val Loss: 0.000\n",
      "Epoch 70 of 100, Train Loss: 0.397, Val Loss: 0.000\n",
      "Epoch 71 of 100, Train Loss: 0.397, Val Loss: 0.000\n",
      "Epoch 72 of 100, Train Loss: 0.397, Val Loss: 0.000\n",
      "Epoch 73 of 100, Train Loss: 0.397, Val Loss: 0.000\n",
      "Epoch 74 of 100, Train Loss: 0.397, Val Loss: 0.000\n",
      "Epoch 75 of 100, Train Loss: 0.397, Val Loss: 0.000\n",
      "Epoch 76 of 100, Train Loss: 0.397, Val Loss: 0.000\n",
      "Epoch 77 of 100, Train Loss: 0.397, Val Loss: 0.000\n",
      "Epoch 78 of 100, Train Loss: 0.397, Val Loss: 0.000\n",
      "Epoch 79 of 100, Train Loss: 0.397, Val Loss: 0.000\n",
      "Epoch 80 of 100, Train Loss: 0.397, Val Loss: 0.000\n",
      "Epoch 81 of 100, Train Loss: 0.397, Val Loss: 0.000\n",
      "Epoch 82 of 100, Train Loss: 0.397, Val Loss: 0.000\n",
      "Epoch 83 of 100, Train Loss: 0.397, Val Loss: 0.000\n",
      "Epoch 84 of 100, Train Loss: 0.397, Val Loss: 0.000\n",
      "Epoch 85 of 100, Train Loss: 0.397, Val Loss: 0.000\n",
      "Epoch 86 of 100, Train Loss: 0.397, Val Loss: 0.000\n",
      "Epoch 87 of 100, Train Loss: 0.397, Val Loss: 0.000\n",
      "Epoch 88 of 100, Train Loss: 0.397, Val Loss: 0.000\n",
      "Epoch 89 of 100, Train Loss: 0.397, Val Loss: 0.000\n",
      "Epoch 90 of 100, Train Loss: 0.397, Val Loss: 0.000\n",
      "Epoch 91 of 100, Train Loss: 0.397, Val Loss: 0.000\n",
      "Epoch 92 of 100, Train Loss: 0.397, Val Loss: 0.000\n",
      "Epoch 93 of 100, Train Loss: 0.397, Val Loss: 0.000\n",
      "Epoch 94 of 100, Train Loss: 0.397, Val Loss: 0.000\n",
      "Epoch 95 of 100, Train Loss: 0.397, Val Loss: 0.000\n",
      "Epoch 96 of 100, Train Loss: 0.397, Val Loss: 0.000\n",
      "Epoch 97 of 100, Train Loss: 0.397, Val Loss: 0.000\n",
      "Epoch 98 of 100, Train Loss: 0.397, Val Loss: 0.000\n",
      "Epoch 99 of 100, Train Loss: 0.397, Val Loss: 0.000\n"
     ]
    }
   ],
   "source": [
    "for epoch in range(1, NUM_EPOCHS):\n",
    "    model.train()\n",
    "    train_loss=train(epoch, model,beta)\n",
    "\n",
    "    model.eval()\n",
    "    test_loss=test(model)\n",
    "    print('Epoch {} of {}, Train Loss: {:.3f}, Val Loss: {:.3f}'.format(epoch, NUM_EPOCHS, train_loss, test_loss ))\n",
    "    "
   ]
  },
  {
   "cell_type": "code",
   "execution_count": 12,
   "metadata": {},
   "outputs": [
    {
     "name": "stdout",
     "output_type": "stream",
     "text": [
      "0.00013867214\n"
     ]
    },
    {
     "data": {
      "image/png": "[encoded data removed]",
      "text/plain": [
       "<Figure size 432x288 with 1 Axes>"
      ]
     },
     "metadata": {
      "needs_background": "light"
     },
     "output_type": "display_data"
    }
   ],
   "source": [
    "plot_auto(model,test_loader, 0)"
   ]
  },
  {
   "cell_type": "markdown",
   "metadata": {},
   "source": [
    "<font face=\"微软雅黑\" size=5 color=#A52A2A > YSE Part"
   ]
  },
  {
   "cell_type": "code",
   "execution_count": 5,
   "metadata": {},
   "outputs": [
    {
     "name": "stdout",
     "output_type": "stream",
     "text": [
      "(500000, 300)\n",
      "(40000, 300)\n"
     ]
    }
   ],
   "source": [
    "x_data,y_data=np.split(Y,[500000],axis=0)\n",
    "print(x_data.shape)\n",
    "print(y_data.shape)\n",
    "x_data=x_data.astype('float32')\n",
    "y_data=y_data.astype('float32')\n",
    "x_train=(x_data-np.min(x_data))/(np.max(x_data)-np.min(x_data))\n",
    "x_train=np.reshape(x_train,(500000,1,300))\n",
    "y_test=(y_data-np.min(y_data))/(np.max(y_data)-np.min(y_data))\n",
    "y_test=np.reshape(y_test,(40000,1,300))\n",
    "train_loader = torch.utils.data.DataLoader(x_train, batch_size=batch_size,num_workers=0)\n",
    "test_loader= torch.utils.data.DataLoader(y_test,batch_size=batch_size)"
   ]
  },
  {
   "cell_type": "code",
   "execution_count": 13,
   "metadata": {},
   "outputs": [],
   "source": [
    "# Encoder and decoder classes\n",
    "\n",
    "class Encoder(nn.Module):\n",
    "    def __init__(self):\n",
    "        super(Encoder, self).__init__()\n",
    "        #self.fc1 = nn.Linear(2000, 128)\n",
    "        self.conv1=nn.Conv1d(in_channels=1,out_channels=16,kernel_size=5,stride= 2)\n",
    "        self.conv2=nn.Conv1d(in_channels=16,out_channels=32,kernel_size=3,stride= 2)\n",
    "        #self.conv3=nn.Conv1d(in_channels=32,out_channels=64,kernel_size=3,stride= 2)\n",
    "        #self.fc2 = nn.Linear(2000, 1024)\n",
    "        #self.fc3 = nn.Linear(1024, 256)\n",
    "        #self.fc4 = nn.Linear(256, 56)\n",
    "    \n",
    "    def forward(self, x):\n",
    "        x = F.relu(self.conv1(x))\n",
    "        x = torch.sigmoid(self.conv2(x))\n",
    "        #x = F.relu(self.conv3(x))\n",
    "        #x = F.relu(self.fc2(x))\n",
    "        #x = F.relu(self.fc3(x))\n",
    "        #x = F.relu(self.fc4(x))\n",
    "        \n",
    "        return x\n",
    "    \n",
    "class Decoder(nn.Module):\n",
    "    def __init__(self):\n",
    "        super(Decoder, self).__init__()\n",
    "        #self.fc4 = nn.Linear(128, 2000)\n",
    "        #self.conv1=nn.Conv1d(in_channels=64,out_channels=32,kernel_size=3,stride= 1,padding=1)\n",
    "        self.conv2=nn.Conv1d(in_channels=32,out_channels=16,kernel_size=3,stride= 1,padding=1)\n",
    "        self.conv3=nn.Conv1d(in_channels=16,out_channels=1,kernel_size=5,stride= 1,padding=1)\n",
    "        \n",
    "        self.fc = nn.Linear(288,300)\n",
    "        #self.fc3 = nn.Linear(256, 1024)\n",
    "        #self.fc2 = nn.Linear(1024, 2000)\n",
    "        #self.fc1 = nn.Linear(2000, 2000)\n",
    "    \n",
    "    def forward(self, x):\n",
    "        #x = self.fc4(x)\n",
    "        #x = F.relu(self.conv1(x))\n",
    "        x = F.relu(self.conv2(x))\n",
    "        x= F.interpolate(x, scale_factor=2 )\n",
    "        x = F.relu(self.conv3(x))\n",
    "        x= F.interpolate(x, scale_factor=2 )\n",
    "        x=self.fc(x)\n",
    "        #x = F.relu(self.fc3(x))\n",
    "        #x = F.relu(self.fc2(x))\n",
    "        #x = self.fc1(x)\n",
    "        return x"
   ]
  },
  {
   "cell_type": "code",
   "execution_count": 14,
   "metadata": {},
   "outputs": [],
   "source": [
    "# Class for autoencoder\n",
    "\n",
    "class Net(nn.Module):\n",
    "    def __init__(self, loss_fn=F.mse_loss, lr=1e-4, l2=0.):#3e-4\n",
    "        super(Net, self).__init__()\n",
    "        self.E = Encoder()\n",
    "        self.D = Decoder()\n",
    "        self.loss_fn = loss_fn\n",
    "        self._rho_loss = None\n",
    "        self._loss = None\n",
    "        self.optim = optim.Adam(self.parameters(), lr=lr, weight_decay=l2)\n",
    "        \n",
    "    def forward(self, x):\n",
    "        h = self.E(x)\n",
    "        self.data_rho = h.mean(0) # calculates rho from encoder activations\n",
    "        out = self.D(h)\n",
    "        return out\n",
    "    \n",
    "    def decode(self, h):\n",
    "        with torch.no_grad():\n",
    "            return self.D(h)\n",
    "    \n",
    "    def rho_loss(self, rho, size_average=True):        \n",
    "        dkl = - rho * torch.log(self.data_rho) - (1-rho)*torch.log(1-self.data_rho) # calculates KL divergence\n",
    "        \n",
    "        if size_average:\n",
    "            self._rho_loss = dkl.mean()\n",
    "        else:\n",
    "            self._rho_loss = dkl.sum()\n",
    "        return self._rho_loss\n",
    "    \n",
    "    def loss(self, x, target, **kwargs):\n",
    "        self._loss = self.loss_fn(x, target, **kwargs)\n",
    "        return self._loss"
   ]
  },
  {
   "cell_type": "code",
   "execution_count": 15,
   "metadata": {},
   "outputs": [],
   "source": [
    "model =Net().cuda(device)"
   ]
  },
  {
   "cell_type": "code",
   "execution_count": 16,
   "metadata": {},
   "outputs": [],
   "source": [
    "# Train function\n",
    "\n",
    "def train(epoch, model,beta):\n",
    "    loss_total=0\n",
    "    train_size = len(train_loader)\n",
    "    for batch_idx, data in enumerate(train_loader):\n",
    "        model.optim.zero_grad()\n",
    "        inputs = data.to(device)#.clone().detach()\n",
    "        inputs = Variable(inputs, requires_grad=True)\n",
    "        output = model(inputs)\n",
    "        if beta!=0:\n",
    "            rho_loss = model.rho_loss(rho)\n",
    "            loss = model.loss(output, inputs) + beta*rho_loss\n",
    "        else:\n",
    "            loss = model.loss(output, inputs)\n",
    "        loss.backward()\n",
    "        model.optim.step()\n",
    "        loss_total+=loss.item()\n",
    "        \n",
    "        \n",
    "        \n",
    "    #line = \"Train Epoch: {} [{} ]\\tLosses \".format(\n",
    "    #            epoch, train_size)\n",
    "    #loss=\" \".join([\"{:.6f}\".format(loss_total/float(train_size))])\n",
    "    #print(line+loss)\n",
    "    return loss_total/float(train_size)"
   ]
  },
  {
   "cell_type": "code",
   "execution_count": 17,
   "metadata": {},
   "outputs": [],
   "source": [
    "def test(model):\n",
    "    loss_total=0\n",
    "    test_size = len(test_loader)\n",
    "    for batch_idx,data in enumerate(test_loader):\n",
    "        inputs = data.to(device)\n",
    "        inputs = Variable(inputs, requires_grad=False)\n",
    "        output = model(inputs)\n",
    "        loss = model.loss(output, inputs)\n",
    "        loss_total+=loss.item()\n",
    "    #line = \"Test: [{} ]\\tLosses \".format(test_size)\n",
    "    #loss=\" \".join([\"{:.6f}\".format(loss_total/float(test_size))])\n",
    "    #print(line+loss)\n",
    "    return loss_total/float(test_size)"
   ]
  },
  {
   "cell_type": "code",
   "execution_count": 21,
   "metadata": {},
   "outputs": [],
   "source": [
    "def plot_auto(net, testloader, indices):\n",
    "    for data in testloader:\n",
    "        data = data.to(device)\n",
    "        outputs = net(data).cpu().detach().numpy()\n",
    "        break\n",
    "    output1=outputs.reshape((256, 300))\n",
    "    data1=data.reshape((256, 300))\n",
    "    print(np.mean((output1-data1.cpu().detach().numpy())** 2))\n",
    "    plt.plot(data1[indices].cpu().detach().numpy(), label ='GT')\n",
    "    plt.plot(output1[indices], label = 'predicted')\n",
    "    plt.legend()"
   ]
  },
  {
   "cell_type": "code",
   "execution_count": 19,
   "metadata": {},
   "outputs": [
    {
     "name": "stdout",
     "output_type": "stream",
     "text": [
      "Epoch 2 of 60, Train Loss: 1.033, Val Loss: 0.006\n",
      "Epoch 3 of 60, Train Loss: 0.625, Val Loss: 0.002\n",
      "Epoch 4 of 60, Train Loss: 0.604, Val Loss: 0.001\n",
      "Epoch 5 of 60, Train Loss: 0.597, Val Loss: 0.001\n",
      "Epoch 6 of 60, Train Loss: 0.596, Val Loss: 0.000\n",
      "Epoch 7 of 60, Train Loss: 0.596, Val Loss: 0.000\n",
      "Epoch 8 of 60, Train Loss: 0.596, Val Loss: 0.000\n",
      "Epoch 9 of 60, Train Loss: 0.596, Val Loss: 0.000\n",
      "Epoch 10 of 60, Train Loss: 0.596, Val Loss: 0.000\n",
      "Epoch 11 of 60, Train Loss: 0.596, Val Loss: 0.000\n",
      "Epoch 12 of 60, Train Loss: 0.596, Val Loss: 0.000\n",
      "Epoch 13 of 60, Train Loss: 0.596, Val Loss: 0.000\n",
      "Epoch 14 of 60, Train Loss: 0.596, Val Loss: 0.000\n",
      "Epoch 15 of 60, Train Loss: 0.596, Val Loss: 0.000\n",
      "Epoch 16 of 60, Train Loss: 0.596, Val Loss: 0.000\n",
      "Epoch 17 of 60, Train Loss: 0.596, Val Loss: 0.000\n",
      "Epoch 18 of 60, Train Loss: 0.596, Val Loss: 0.000\n",
      "Epoch 19 of 60, Train Loss: 0.596, Val Loss: 0.000\n",
      "Epoch 20 of 60, Train Loss: 0.596, Val Loss: 0.000\n",
      "Epoch 21 of 60, Train Loss: 0.596, Val Loss: 0.000\n",
      "Epoch 22 of 60, Train Loss: 0.596, Val Loss: 0.000\n",
      "Epoch 23 of 60, Train Loss: 0.596, Val Loss: 0.000\n",
      "Epoch 24 of 60, Train Loss: 0.596, Val Loss: 0.000\n",
      "Epoch 25 of 60, Train Loss: 0.596, Val Loss: 0.000\n",
      "Epoch 26 of 60, Train Loss: 0.596, Val Loss: 0.000\n",
      "Epoch 27 of 60, Train Loss: 0.596, Val Loss: 0.000\n",
      "Epoch 28 of 60, Train Loss: 0.596, Val Loss: 0.000\n",
      "Epoch 29 of 60, Train Loss: 0.596, Val Loss: 0.000\n",
      "Epoch 30 of 60, Train Loss: 0.596, Val Loss: 0.000\n",
      "Epoch 31 of 60, Train Loss: 0.596, Val Loss: 0.000\n",
      "Epoch 32 of 60, Train Loss: 0.596, Val Loss: 0.000\n",
      "Epoch 33 of 60, Train Loss: 0.596, Val Loss: 0.000\n",
      "Epoch 34 of 60, Train Loss: 0.596, Val Loss: 0.000\n",
      "Epoch 35 of 60, Train Loss: 0.596, Val Loss: 0.000\n",
      "Epoch 36 of 60, Train Loss: 0.596, Val Loss: 0.000\n",
      "Epoch 37 of 60, Train Loss: 0.596, Val Loss: 0.000\n",
      "Epoch 38 of 60, Train Loss: 0.596, Val Loss: 0.000\n",
      "Epoch 39 of 60, Train Loss: 0.596, Val Loss: 0.000\n",
      "Epoch 40 of 60, Train Loss: 0.596, Val Loss: 0.000\n",
      "Epoch 41 of 60, Train Loss: 0.596, Val Loss: 0.000\n",
      "Epoch 42 of 60, Train Loss: 0.596, Val Loss: 0.000\n",
      "Epoch 43 of 60, Train Loss: 0.596, Val Loss: 0.000\n",
      "Epoch 44 of 60, Train Loss: 0.596, Val Loss: 0.000\n",
      "Epoch 45 of 60, Train Loss: 0.596, Val Loss: 0.000\n",
      "Epoch 46 of 60, Train Loss: 0.596, Val Loss: 0.000\n",
      "Epoch 47 of 60, Train Loss: 0.596, Val Loss: 0.000\n",
      "Epoch 48 of 60, Train Loss: 0.596, Val Loss: 0.000\n",
      "Epoch 49 of 60, Train Loss: 0.596, Val Loss: 0.000\n",
      "Epoch 50 of 60, Train Loss: 0.596, Val Loss: 0.000\n",
      "Epoch 51 of 60, Train Loss: 0.596, Val Loss: 0.000\n",
      "Epoch 52 of 60, Train Loss: 0.596, Val Loss: 0.000\n",
      "Epoch 53 of 60, Train Loss: 0.596, Val Loss: 0.000\n",
      "Epoch 54 of 60, Train Loss: 0.596, Val Loss: 0.000\n",
      "Epoch 55 of 60, Train Loss: 0.596, Val Loss: 0.000\n",
      "Epoch 56 of 60, Train Loss: 0.596, Val Loss: 0.000\n",
      "Epoch 57 of 60, Train Loss: 0.596, Val Loss: 0.000\n",
      "Epoch 58 of 60, Train Loss: 0.596, Val Loss: 0.000\n",
      "Epoch 59 of 60, Train Loss: 0.596, Val Loss: 0.000\n",
      "Epoch 60 of 60, Train Loss: 0.596, Val Loss: 0.000\n",
      "Epoch 61 of 60, Train Loss: 0.596, Val Loss: 0.000\n"
     ]
    }
   ],
   "source": [
    "for epoch in range(1, NUM_EPOCHS+1):\n",
    "    model.train()\n",
    "    train_loss=train(epoch, model,beta)\n",
    "\n",
    "    model.eval()\n",
    "    test_loss=test(model)\n",
    "    print('Epoch {} of {}, Train Loss: {:.3f}, Val Loss: {:.3f}'.format(epoch+1, NUM_EPOCHS, train_loss, test_loss ))"
   ]
  },
  {
   "cell_type": "code",
   "execution_count": 22,
   "metadata": {},
   "outputs": [
    {
     "name": "stdout",
     "output_type": "stream",
     "text": [
      "3.931117e-05\n"
     ]
    },
    {
     "data": {
      "image/png": "[encoded data removed]",
      "text/plain": [
       "<Figure size 432x288 with 1 Axes>"
      ]
     },
     "metadata": {
      "needs_background": "light"
     },
     "output_type": "display_data"
    }
   ],
   "source": [
    "plot_auto(model,test_loader, 0)"
   ]
  },
  {
   "cell_type": "code",
   "execution_count": null,
   "metadata": {},
   "outputs": [],
   "source": []
  }
 ],
 "metadata": {
  "kernelspec": {
   "display_name": "Python 3",
   "language": "python",
   "name": "python3"
  },
  "language_info": {
   "codemirror_mode": {
    "name": "ipython",
    "version": 3
   },
   "file_extension": ".py",
   "mimetype": "text/x-python",
   "name": "python",
   "nbconvert_exporter": "python",
   "pygments_lexer": "ipython3",
   "version": "3.6.9"
  }
 },
 "nbformat": 4,
 "nbformat_minor": 4
}
