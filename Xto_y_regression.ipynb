{
 "cells": [
  {
   "cell_type": "code",
   "execution_count": 1,
   "metadata": {},
   "outputs": [],
   "source": [
    "import torch\n",
    "import torch.nn as nn\n",
    "import torch.nn.functional as F\n",
    "import torch.optim as optim\n",
    "from torch.autograd import Variable\n",
    "from torch.utils.data import Dataset\n",
    "\n",
    "from utils import mnist, plot_graphs, plot_mnist # functions for loading and plotting MNIST\n",
    "import numpy as np\n",
    "\n",
    "import matplotlib.pyplot as plt\n",
    "import h5py\n",
    "\n",
    "\n",
    "%matplotlib inline"
   ]
  },
  {
   "cell_type": "code",
   "execution_count": 2,
   "metadata": {},
   "outputs": [],
   "source": [
    "batch_size=256\n",
    "rho = 0.05\n",
    "beta=2#5\n",
    "NUM_EPOCHS=20\n",
    "which_GPU = '0'\n",
    "device = torch.device(\"cuda:\"+which_GPU)\n"
   ]
  },
  {
   "cell_type": "markdown",
   "metadata": {},
   "source": [
    "<font face=\"微软雅黑\" size=5 color=#A52A2A > Data Reader"
   ]
  },
  {
   "cell_type": "code",
   "execution_count": 3,
   "metadata": {},
   "outputs": [],
   "source": [
    "for i in range(10):\n",
    "    f = h5py.File('../../data/'+str(i)+'.h5', 'r')\n",
    "    if i==0:\n",
    "        X = np.asarray(f['XSE'])\n",
    "        Y = np.asarray(f['YSE'])\n",
    "    if i!=0:\n",
    "        X= np.vstack((X,np.asarray(f['XSE'])))\n",
    "        Y= np.vstack((Y,np.asarray(f['YSE'])))"
   ]
  },
  {
   "cell_type": "code",
   "execution_count": 4,
   "metadata": {},
   "outputs": [
    {
     "name": "stdout",
     "output_type": "stream",
     "text": [
      "(500000, 2000)\n",
      "(40000, 2000)\n"
     ]
    }
   ],
   "source": [
    "xTrain_data,xTest_data=np.split(X,[500000],axis=0)\n",
    "print(xTrain_data.shape)\n",
    "print(xTest_data.shape)\n",
    "xTrain_data=xTrain_data.astype('float32')\n",
    "xTest_data=xTest_data.astype('float32')\n",
    "x_train=(xTrain_data-np.min(xTrain_data))/(np.max(xTrain_data)-np.min(xTrain_data))\n",
    "x_train=np.reshape(x_train,(500000,1,2000))\n",
    "x_test=(xTest_data-np.min(xTest_data))/(np.max(xTest_data)-np.min(xTest_data))\n",
    "x_test=np.reshape(x_test,(40000,1,2000))"
   ]
  },
  {
   "cell_type": "code",
   "execution_count": 5,
   "metadata": {},
   "outputs": [
    {
     "name": "stdout",
     "output_type": "stream",
     "text": [
      "(500000, 300)\n",
      "(40000, 300)\n"
     ]
    }
   ],
   "source": [
    "yTrain_data,yTest_data=np.split(Y,[500000],axis=0)\n",
    "print(yTrain_data.shape)\n",
    "print(yTest_data.shape)\n",
    "yTrain_data=yTrain_data.astype('float32')\n",
    "yTest_data=yTest_data.astype('float32')\n",
    "y_train=(yTrain_data-np.min(yTrain_data))/(np.max(yTrain_data)-np.min(yTrain_data))\n",
    "y_train=np.reshape(y_train,(500000,1,300))\n",
    "y_test=(yTest_data-np.min(yTest_data))/(np.max(yTest_data)-np.min(yTest_data))\n",
    "y_test=np.reshape(y_test,(40000,1,300))"
   ]
  },
  {
   "cell_type": "code",
   "execution_count": 6,
   "metadata": {},
   "outputs": [],
   "source": [
    "class SEDataset(Dataset):\n",
    "    def __init__(self,X,Y):\n",
    "        self.data=[]\n",
    "        for x,y in zip(X,Y):\n",
    "            self.data.append([x, y])\n",
    "    def __len__(self):\n",
    "        return len(self.data)\n",
    "    def __getitem__(self, idx):\n",
    "        x=self.data[idx][0]\n",
    "        y = self.data[idx][1]\n",
    "        return x, y\n",
    "    "
   ]
  },
  {
   "cell_type": "code",
   "execution_count": 7,
   "metadata": {},
   "outputs": [],
   "source": [
    "trainset=SEDataset(x_train,y_train)\n",
    "testset=SEDataset(x_test,y_test)\n",
    "train_loader = torch.utils.data.DataLoader(trainset, batch_size=batch_size,num_workers=0)\n",
    "test_loader= torch.utils.data.DataLoader(testset,batch_size=batch_size)"
   ]
  },
  {
   "cell_type": "code",
   "execution_count": 8,
   "metadata": {},
   "outputs": [],
   "source": [
    "# Encoder and decoder classes\n",
    "\n",
    "class Encoder(nn.Module):\n",
    "    def __init__(self):\n",
    "        super(Encoder, self).__init__()\n",
    "        #self.fc1 = nn.Linear(2000, 128)\n",
    "        self.conv1=nn.Conv1d(in_channels=4,out_channels=16,kernel_size=5,stride= 2)\n",
    "        self.conv2=nn.Conv1d(in_channels=16,out_channels=32,kernel_size=3,stride= 2)\n",
    "        #self.conv3=nn.Conv1d(in_channels=32,out_channels=64,kernel_size=3,stride= 2)\n",
    "        #self.fc2 = nn.Linear(2000, 1024)\n",
    "        #self.fc3 = nn.Linear(1024, 256)\n",
    "        #self.fc4 = nn.Linear(256, 56)\n",
    "    \n",
    "    def forward(self, x):\n",
    "        x = x.reshape(-1,4,500)\n",
    "        x = F.relu(self.conv1(x))\n",
    "        x = torch.sigmoid(self.conv2(x))\n",
    "        #x = F.relu(self.conv3(x))\n",
    "        #x = F.relu(self.fc2(x))\n",
    "        #x = F.relu(self.fc3(x))\n",
    "        #x = F.relu(self.fc4(x))\n",
    "        \n",
    "        return x\n",
    "    \n",
    "class Decoder(nn.Module):\n",
    "    def __init__(self):\n",
    "        super(Decoder, self).__init__()\n",
    "        #self.fc4 = nn.Linear(128, 2000)\n",
    "        #self.conv1=nn.Conv1d(in_channels=64,out_channels=32,kernel_size=3,stride= 1,padding=1)\n",
    "        self.conv2=nn.Conv1d(in_channels=32,out_channels=16,kernel_size=3,stride= 1,padding=1)\n",
    "        self.conv3=nn.Conv1d(in_channels=16,out_channels=4,kernel_size=5,stride= 1,padding=1)\n",
    "        \n",
    "        self.fc = nn.Linear(1952,2000)\n",
    "        #self.fc3 = nn.Linear(256, 1024)\n",
    "        #self.fc2 = nn.Linear(1024, 2000)\n",
    "        #self.fc1 = nn.Linear(2000, 2000)\n",
    "    \n",
    "    def forward(self, x):\n",
    "        #x = self.fc4(x)\n",
    "        #x = F.relu(self.conv1(x))\n",
    "        x = F.relu(self.conv2(x))\n",
    "        x= F.interpolate(x, scale_factor=2 )\n",
    "        x = F.relu(self.conv3(x))\n",
    "        x= F.interpolate(x, scale_factor=2 )\n",
    "        x = x.reshape(-1,1,1952)\n",
    "        x=self.fc(x)\n",
    "        #x = F.relu(self.fc3(x))\n",
    "        #x = F.relu(self.fc2(x))\n",
    "        #x = self.fc1(x)\n",
    "        return x\n",
    "    \n",
    "class Regression(nn.Module):\n",
    "    def __init__(self):\n",
    "        super(Regression,self).__init__()\n",
    "        self.conv1=nn.Conv1d(in_channels=32,out_channels=16,kernel_size=3,stride= 1,padding=1)\n",
    "        self.conv2=nn.Conv1d(in_channels=16,out_channels=4,kernel_size=3,stride= 1,padding=1)\n",
    "        self.fc1=nn.Linear(492,300)\n",
    "    def forward(self,x):\n",
    "        x = F.relu(self.conv1(x))\n",
    "        x = F.relu(self.conv2(x))\n",
    "        x=x.reshape(-1,1,492)\n",
    "        x=self.fc1(x)\n",
    "        return x"
   ]
  },
  {
   "cell_type": "code",
   "execution_count": 9,
   "metadata": {},
   "outputs": [],
   "source": [
    "# Class for autoencoder\n",
    "\n",
    "class Net(nn.Module):\n",
    "    def __init__(self, loss_fn=F.mse_loss, lr=1e-4, l2=0.):#3e-4\n",
    "        super(Net, self).__init__()\n",
    "        self.E = Encoder()\n",
    "        self.D = Decoder()\n",
    "        self.R = Regression()\n",
    "        self.loss_fn = loss_fn\n",
    "        self._rho_loss = None\n",
    "        self._loss = None\n",
    "        self.optim = optim.Adam(self.parameters(), lr=lr, weight_decay=l2)\n",
    "        \n",
    "    def forward(self, x):\n",
    "        h = self.E(x)\n",
    "        self.data_rho = h.mean(0) # calculates rho from encoder activations\n",
    "        out = self.D(h)\n",
    "        return out\n",
    "    def regression(self,x):\n",
    "        h = self.E(x)\n",
    "        out =self.R(h)\n",
    "        return out\n",
    "        \n",
    "    def decode(self, h):\n",
    "        with torch.no_grad():\n",
    "            return self.D(h)\n",
    "    \n",
    "    def rho_loss(self, rho, size_average=True):        \n",
    "        dkl = - rho * torch.log(self.data_rho) - (1-rho)*torch.log(1-self.data_rho) # calculates KL divergence\n",
    "        \n",
    "        if size_average:\n",
    "            self._rho_loss = dkl.mean()\n",
    "        else:\n",
    "            self._rho_loss = dkl.sum()\n",
    "        return self._rho_loss\n",
    "    \n",
    "    def loss(self, x, target, **kwargs):\n",
    "        self._loss = self.loss_fn(x, target, **kwargs)\n",
    "        return self._loss"
   ]
  },
  {
   "cell_type": "code",
   "execution_count": 10,
   "metadata": {},
   "outputs": [],
   "source": [
    "# Making AEs with 16, 64 and 256 neurons in latent layer\n",
    "\n",
    "model =Net().cuda(device)"
   ]
  },
  {
   "cell_type": "code",
   "execution_count": 11,
   "metadata": {},
   "outputs": [],
   "source": [
    "# Train function\n",
    "\n",
    "def train(epoch, model,beta):\n",
    "    loss_total=0\n",
    "    train_size = len(train_loader)\n",
    "    for batch_idx, (x,_) in enumerate(train_loader):\n",
    "        model.optim.zero_grad()\n",
    "        inputs = x.to(device)#.clone().detach()\n",
    "        inputs = Variable(inputs, requires_grad=True)\n",
    "        output = model(inputs)\n",
    "        if beta!=0:\n",
    "            rho_loss = model.rho_loss(rho)\n",
    "            loss = model.loss(output, inputs) + beta*rho_loss\n",
    "        else:\n",
    "            loss = model.loss(output, inputs)\n",
    "        loss.backward()\n",
    "        model.optim.step()\n",
    "        loss_total+=loss.item()\n",
    "        \n",
    "    return loss_total/float(train_size)"
   ]
  },
  {
   "cell_type": "code",
   "execution_count": 12,
   "metadata": {},
   "outputs": [],
   "source": [
    "def train_R(epoch, model,beta):\n",
    "    loss_total=0\n",
    "    train_size = len(train_loader)\n",
    "    for batch_idx, (x,y) in enumerate(train_loader):\n",
    "        model.optim.zero_grad()\n",
    "        inputs = x.to(device)#.clone().detach()\n",
    "        labels = y.to(device)\n",
    "        inputs = Variable(inputs, requires_grad=True)\n",
    "        labels = Variable(labels)\n",
    "        output = model.regression(inputs)\n",
    "        loss = model.loss(output, labels)\n",
    "        loss.backward()\n",
    "        model.optim.step()\n",
    "        loss_total+=loss.item()\n",
    "        \n",
    "    return loss_total/float(train_size)"
   ]
  },
  {
   "cell_type": "code",
   "execution_count": 13,
   "metadata": {},
   "outputs": [],
   "source": [
    "def test(model):\n",
    "    loss_total=0\n",
    "    test_size = len(test_loader)\n",
    "    for batch_idx,(x,_) in enumerate(test_loader):\n",
    "        inputs = x.to(device)\n",
    "        inputs = Variable(inputs, requires_grad=False)\n",
    "        output = model(inputs)\n",
    "        loss = model.loss(output, inputs)\n",
    "        loss_total+=loss.item()\n",
    "\n",
    "    return loss_total/float(test_size)"
   ]
  },
  {
   "cell_type": "code",
   "execution_count": 14,
   "metadata": {},
   "outputs": [],
   "source": [
    "def test_R(model):\n",
    "    loss_total=0\n",
    "    test_size = len(test_loader)\n",
    "    for batch_idx,(x,y) in enumerate(test_loader):\n",
    "        inputs = x.to(device)\n",
    "        labels = y.to(device)\n",
    "        inputs = Variable(inputs, requires_grad=False)\n",
    "        labels = Variable(labels)\n",
    "        output = model.regression(inputs)\n",
    "        loss = model.loss(output, labels)\n",
    "        loss_total+=loss.item()\n",
    "    return loss_total/float(test_size)"
   ]
  },
  {
   "cell_type": "code",
   "execution_count": 15,
   "metadata": {},
   "outputs": [],
   "source": [
    "def plot_auto(net, testloader, indices):\n",
    "    for x,y in testloader:\n",
    "        x = x.to(device)\n",
    "        y = y.to(device)\n",
    "        outputs = net.regression(x).cpu().detach().numpy()\n",
    "        break\n",
    "    output1=outputs.reshape((256, 300))\n",
    "    y=y.reshape((256, 300))\n",
    "    print(np.mean((output1- y.cpu().detach().numpy())** 2))\n",
    "    plt.plot(y[indices].cpu().detach().numpy(), label ='GT')\n",
    "    print(y[indices].cpu().detach().numpy().shape)\n",
    "    plt.plot(output1[indices], label = 'predicted')\n",
    "    plt.title('XSE predict YSE')\n",
    "    plt.legend()"
   ]
  },
  {
   "cell_type": "code",
   "execution_count": 16,
   "metadata": {},
   "outputs": [
    {
     "name": "stdout",
     "output_type": "stream",
     "text": [
      "SAE Epoch 1 of 20, Train Loss: 0.710, Val Loss: 0.001\n",
      "SAE Epoch 2 of 20, Train Loss: 0.399, Val Loss: 0.001\n",
      "SAE Epoch 3 of 20, Train Loss: 0.399, Val Loss: 0.001\n",
      "SAE Epoch 4 of 20, Train Loss: 0.399, Val Loss: 0.001\n",
      "SAE Epoch 5 of 20, Train Loss: 0.398, Val Loss: 0.001\n",
      "SAE Epoch 6 of 20, Train Loss: 0.398, Val Loss: 0.001\n",
      "SAE Epoch 7 of 20, Train Loss: 0.397, Val Loss: 0.001\n",
      "SAE Epoch 8 of 20, Train Loss: 0.397, Val Loss: 0.001\n",
      "SAE Epoch 9 of 20, Train Loss: 0.397, Val Loss: 0.001\n",
      "SAE Epoch 10 of 20, Train Loss: 0.397, Val Loss: 0.001\n",
      "SAE Epoch 11 of 20, Train Loss: 0.397, Val Loss: 0.001\n",
      "SAE Epoch 12 of 20, Train Loss: 0.397, Val Loss: 0.001\n",
      "SAE Epoch 13 of 20, Train Loss: 0.397, Val Loss: 0.001\n",
      "SAE Epoch 14 of 20, Train Loss: 0.397, Val Loss: 0.002\n",
      "SAE Epoch 15 of 20, Train Loss: 0.397, Val Loss: 0.002\n",
      "SAE Epoch 16 of 20, Train Loss: 0.397, Val Loss: 0.002\n",
      "SAE Epoch 17 of 20, Train Loss: 0.397, Val Loss: 0.002\n",
      "SAE Epoch 18 of 20, Train Loss: 0.397, Val Loss: 0.002\n",
      "SAE Epoch 19 of 20, Train Loss: 0.397, Val Loss: 0.002\n",
      "SAE Epoch 20 of 20, Train Loss: 0.397, Val Loss: 0.002\n",
      "R Epoch 1 of 20, Train Loss: 0.006, Val Loss: 0.007\n",
      "R Epoch 2 of 20, Train Loss: 0.004, Val Loss: 0.007\n",
      "R Epoch 3 of 20, Train Loss: 0.004, Val Loss: 0.007\n",
      "R Epoch 4 of 20, Train Loss: 0.004, Val Loss: 0.007\n",
      "R Epoch 5 of 20, Train Loss: 0.004, Val Loss: 0.007\n",
      "R Epoch 6 of 20, Train Loss: 0.004, Val Loss: 0.007\n",
      "R Epoch 7 of 20, Train Loss: 0.004, Val Loss: 0.006\n",
      "R Epoch 8 of 20, Train Loss: 0.004, Val Loss: 0.006\n",
      "R Epoch 9 of 20, Train Loss: 0.004, Val Loss: 0.006\n",
      "R Epoch 10 of 20, Train Loss: 0.004, Val Loss: 0.006\n",
      "R Epoch 11 of 20, Train Loss: 0.004, Val Loss: 0.006\n",
      "R Epoch 12 of 20, Train Loss: 0.004, Val Loss: 0.006\n",
      "R Epoch 13 of 20, Train Loss: 0.004, Val Loss: 0.006\n",
      "R Epoch 14 of 20, Train Loss: 0.004, Val Loss: 0.006\n",
      "R Epoch 15 of 20, Train Loss: 0.004, Val Loss: 0.006\n",
      "R Epoch 16 of 20, Train Loss: 0.004, Val Loss: 0.006\n",
      "R Epoch 17 of 20, Train Loss: 0.004, Val Loss: 0.006\n",
      "R Epoch 18 of 20, Train Loss: 0.004, Val Loss: 0.006\n",
      "R Epoch 19 of 20, Train Loss: 0.004, Val Loss: 0.006\n",
      "R Epoch 20 of 20, Train Loss: 0.004, Val Loss: 0.006\n"
     ]
    }
   ],
   "source": [
    "for epoch in range(1, NUM_EPOCHS+1):\n",
    "    model.train()\n",
    "    train_loss=train(epoch, model,beta)\n",
    "\n",
    "    model.eval()\n",
    "    test_loss=test(model)\n",
    "    print('SAE Epoch {} of {}, Train Loss: {:.3f}, Val Loss: {:.3f}'.format(epoch, NUM_EPOCHS, train_loss, test_loss ))\n",
    "for epoch in range(1, NUM_EPOCHS+1):\n",
    "    model.train()\n",
    "    train_loss=train_R(epoch, model,beta)\n",
    "    model.eval()\n",
    "    test_loss=test_R(model)\n",
    "    print('R Epoch {} of {}, Train Loss: {:.3f}, Val Loss: {:.3f}'.format(epoch, NUM_EPOCHS, train_loss, test_loss ))"
   ]
  },
  {
   "cell_type": "code",
   "execution_count": 24,
   "metadata": {},
   "outputs": [
    {
     "name": "stdout",
     "output_type": "stream",
     "text": [
      "0.0044297446\n",
      "(300,)\n"
     ]
    },
    {
     "data": {
      "image/png": "[encoded data removed]",
      "text/plain": [
       "<Figure size 432x288 with 1 Axes>"
      ]
     },
     "metadata": {
      "needs_background": "light"
     },
     "output_type": "display_data"
    }
   ],
   "source": [
    "plot_auto(model,test_loader, 200)"
   ]
  },
  {
   "cell_type": "code",
   "execution_count": 24,
   "metadata": {},
   "outputs": [
    {
     "name": "stdout",
     "output_type": "stream",
     "text": [
      "0.004669798\n",
      "(300,)\n"
     ]
    },
    {
     "data": {
      "image/png": "[encoded data removed]",
      "text/plain": [
       "<Figure size 432x288 with 1 Axes>"
      ]
     },
     "metadata": {
      "needs_background": "light"
     },
     "output_type": "display_data"
    }
   ],
   "source": [
    "plot_auto(model,train_loader, 10)"
   ]
  },
  {
   "cell_type": "code",
   "execution_count": null,
   "metadata": {},
   "outputs": [],
   "source": []
  }
 ],
 "metadata": {
  "kernelspec": {
   "display_name": "Python 3",
   "language": "python",
   "name": "python3"
  },
  "language_info": {
   "codemirror_mode": {
    "name": "ipython",
    "version": 3
   },
   "file_extension": ".py",
   "mimetype": "text/x-python",
   "name": "python",
   "nbconvert_exporter": "python",
   "pygments_lexer": "ipython3",
   "version": "3.6.9"
  }
 },
 "nbformat": 4,
 "nbformat_minor": 4
}
